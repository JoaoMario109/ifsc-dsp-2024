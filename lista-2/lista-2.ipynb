{
 "cells": [
  {
   "cell_type": "markdown",
   "metadata": {},
   "source": [
    "# Lista 2 - DSP\n",
    "\n",
    "## Aluno\n",
    "João Mário C. I. Lago"
   ]
  },
  {
   "cell_type": "code",
   "execution_count": 1,
   "metadata": {},
   "outputs": [
    {
     "name": "stdout",
     "output_type": "stream",
     "text": [
      "\n",
      "\u001b[1m[\u001b[0m\u001b[34;49mnotice\u001b[0m\u001b[1;39;49m]\u001b[0m\u001b[39;49m A new release of pip is available: \u001b[0m\u001b[31;49m23.3.2\u001b[0m\u001b[39;49m -> \u001b[0m\u001b[32;49m24.0\u001b[0m\n",
      "\u001b[1m[\u001b[0m\u001b[34;49mnotice\u001b[0m\u001b[1;39;49m]\u001b[0m\u001b[39;49m To update, run: \u001b[0m\u001b[32;49mpip install --upgrade pip\u001b[0m\n"
     ]
    }
   ],
   "source": [
    "!pip install -q numpy pandas matplotlib"
   ]
  },
  {
   "cell_type": "markdown",
   "metadata": {},
   "source": [
    "## Ex P2.11 - Linearity check\n",
    "\n",
    "### Signal 1\n",
    "\n",
    "$$\n",
    "T_1[x(n)] = x(n)u(n) \\\\\n",
    "$$"
   ]
  },
  {
   "cell_type": "code",
   "execution_count": 6,
   "metadata": {},
   "outputs": [
    {
     "name": "stdout",
     "output_type": "stream",
     "text": [
      "[0.6169095  0.98694265 0.15790027 0.80037425 0.40229625 0.1391853\n",
      " 0.50550275 0.65610658 0.97217456 0.09973175 0.96106278 0.82927268\n",
      " 0.80208733 0.49580318 0.72134697 0.72881758 0.81363756 0.80383426\n",
      " 0.0276968  0.85727602 0.178803   0.63022953 0.14323273 0.59634287\n",
      " 0.9811132  0.18311455 0.78066872 0.5738553  0.60937925 0.51515284\n",
      " 0.05751955 0.60369785 0.46460528 0.07447893 0.95035767 0.97860371\n",
      " 0.62981258 0.18529656 0.23929403 0.5403961  0.51624962 0.24723515\n",
      " 0.29894275 0.62283762 0.97096982 0.09006365 0.17386242 0.40642604\n",
      " 0.66711848 0.75863718 0.58556569 0.97717883 0.18883481 0.5445216\n",
      " 0.13658867 0.71919391 0.60609002 0.24423904 0.37889144 0.39788897\n",
      " 0.4443121  0.28847124 0.9508037  0.3619581  0.47550293 0.98972353\n",
      " 0.12069779 0.29708415 0.40403729 0.9673156  0.5079216  0.88433304\n",
      " 0.9922178  0.7220507  0.09197542 0.0290953  0.89258367 0.59395469\n",
      " 0.50879574 0.24432136 0.32757046 0.97050053 0.11415744 0.86044152\n",
      " 0.22132138 0.77120808 0.7156225  0.76919197 0.26772885 0.47304859\n",
      " 0.9347209  0.76748788 0.28423372 0.3021608  0.04585963 0.16515308\n",
      " 0.57225573 0.12606376 0.48707886 0.82849328]\n"
     ]
    }
   ],
   "source": [
    "# Checking linearity for the system T_1[x(n)] = x(n)u(n)\n",
    "\n",
    "import numpy as np\n"
   ]
  },
  {
   "cell_type": "markdown",
   "metadata": {},
   "source": [
    "### Signal 2\n",
    "\n",
    "$$\n",
    "T_2[x(n)] = x(n) + nx(n + 1) \\\\\n",
    "$$"
   ]
  },
  {
   "cell_type": "code",
   "execution_count": null,
   "metadata": {},
   "outputs": [],
   "source": [
    "# Check if system T_2[x(n)] = x(n) + nx(n + 1) is linear\n",
    "\n",
    "# Let x1(n) and x2(n) be two input signals\n",
    "x1 = np.array([1, 2, 3, 4, 5])\n",
    "x2 = np.array([5, 4, 3, 2, 1])\n",
    "\n",
    "# Let y1(n) and y2(n) be the output signals for x1(n) and x2(n) respectively\n",
    "y1 = x1 + np.arange(5) * x1\n",
    "y2 = x2 + np.arange(5) * x2\n",
    "\n",
    "# Let x(n) = a1x1(n) + a2x2(n) be the input signal\n",
    "a1 = 2\n",
    "a2 = 3\n",
    "x = a1 * x1 + a2 * x2\n",
    "\n",
    "# Let y(n) be the output signal for x(n)\n",
    "y = x + np.arange(5) * x\n",
    "\n",
    "# Check if y(n) = a1y1(n) + a2y2(n)\n",
    "lhs = y\n",
    "rhs = a1 * y1 + a2 * y2\n",
    "\n",
    "if np.array_equal(lhs, rhs):\n",
    "\tprint(\"System is linear\")\n",
    "else:\n",
    "\tprint(\"System is not linear\")"
   ]
  },
  {
   "cell_type": "markdown",
   "metadata": {},
   "source": [
    "### Signal 3\n",
    "\n",
    "$$\n",
    "T_3[x(n)] = x(n) + \\frac{1}{2}x(n - 2) - \\frac{1}{3}x(n - 3)x(2n) \\\\\n",
    "$$"
   ]
  },
  {
   "cell_type": "code",
   "execution_count": null,
   "metadata": {},
   "outputs": [],
   "source": []
  },
  {
   "cell_type": "markdown",
   "metadata": {},
   "source": [
    "### Signal 4\n",
    "\n",
    "$$\n",
    "T_4[x(n)] = \\sum_{k=-\\infty}^{n+5} 2x(k) \\\\\n",
    "$$"
   ]
  },
  {
   "cell_type": "code",
   "execution_count": null,
   "metadata": {},
   "outputs": [],
   "source": []
  },
  {
   "cell_type": "markdown",
   "metadata": {},
   "source": [
    "### Signal 5\n",
    "\n",
    "$$\n",
    "T_5[x(n)] = x(2n) \\\\\n",
    "$$"
   ]
  },
  {
   "cell_type": "code",
   "execution_count": null,
   "metadata": {},
   "outputs": [],
   "source": []
  },
  {
   "cell_type": "markdown",
   "metadata": {},
   "source": [
    "### Signal 6\n",
    "\n",
    "$$\n",
    "T_6[x(n)] = \\text{round}[x(n)] \\\\\n",
    "$$"
   ]
  },
  {
   "cell_type": "code",
   "execution_count": null,
   "metadata": {},
   "outputs": [],
   "source": []
  }
 ],
 "metadata": {
  "kernelspec": {
   "display_name": ".venv",
   "language": "python",
   "name": "python3"
  },
  "language_info": {
   "codemirror_mode": {
    "name": "ipython",
    "version": 3
   },
   "file_extension": ".py",
   "mimetype": "text/x-python",
   "name": "python",
   "nbconvert_exporter": "python",
   "pygments_lexer": "ipython3",
   "version": "3.11.7"
  }
 },
 "nbformat": 4,
 "nbformat_minor": 2
}
